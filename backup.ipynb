{
 "cells": [
  {
   "cell_type": "markdown",
   "source": [
    "We will convert:\n",
    "\n",
    "- \"key\"\n",
    "- \"mode\"\n",
    "\n",
    "to dummy variables."
   ],
   "metadata": {
    "collapsed": false
   }
  },
  {
   "cell_type": "code",
   "execution_count": null,
   "outputs": [],
   "source": [
    "def convert_to_dummy(data: pd.DataFrame, target: str):\n",
    "    dummies = pd.get_dummies(data[target], dtype=int)\n",
    "    data.drop(target, inplace=True, axis=1)\n",
    "    return pd.concat([data, dummies], axis=1)\n",
    "\n",
    "x = convert_to_dummy(x, \"key\")\n",
    "x = convert_to_dummy(x, \"mode\")\n",
    "x.head()"
   ],
   "metadata": {
    "collapsed": false
   }
  },
  {
   "cell_type": "markdown",
   "source": [
    "We will drop:\n",
    "- \"track_name\"\n",
    "- \"released_month\"\n",
    "- \"released_day\"\n",
    "- \"artist(s)_name\"\n",
    "    - TODO: Prehaps we could try encoding this?"
   ],
   "metadata": {
    "collapsed": false
   }
  },
  {
   "cell_type": "code",
   "execution_count": null,
   "outputs": [],
   "source": [
    "to_drop = [\"track_name\", \"released_month\", \"released_day\", \"artist(s)_name\"]\n",
    "\n",
    "for targets in to_drop:\n",
    "    x.drop(targets, inplace=True, axis=1)\n",
    "x.head()"
   ],
   "metadata": {
    "collapsed": false
   }
  },
  {
   "cell_type": "markdown",
   "source": [
    "Split the data up into training and testing data."
   ],
   "metadata": {
    "collapsed": false
   }
  },
  {
   "cell_type": "code",
   "execution_count": null,
   "outputs": [],
   "source": [
    "from sklearn.model_selection import train_test_split\n",
    "\n",
    "x1_train, x1_val, y1_train, y1_val = train_test_split(x, y1, test_size=0.3, random_state=42)\n",
    "x2_train, x2_val, y2_train, y2_val = train_test_split(x, y2, test_size=0.3, random_state=42)\n",
    "x3_train, x3_val, y3_train, y3_val = train_test_split(x, y3, test_size=0.3, random_state=42)"
   ],
   "metadata": {
    "collapsed": false
   }
  },
  {
   "cell_type": "code",
   "execution_count": null,
   "outputs": [],
   "source": [],
   "metadata": {
    "collapsed": false
   }
  },
  {
   "cell_type": "markdown",
   "source": [],
   "metadata": {
    "collapsed": false
   }
  }
 ],
 "metadata": {
  "kernelspec": {
   "display_name": "Python 3",
   "language": "python",
   "name": "python3"
  },
  "language_info": {
   "codemirror_mode": {
    "name": "ipython",
    "version": 2
   },
   "file_extension": ".py",
   "mimetype": "text/x-python",
   "name": "python",
   "nbconvert_exporter": "python",
   "pygments_lexer": "ipython2",
   "version": "2.7.6"
  }
 },
 "nbformat": 4,
 "nbformat_minor": 0
}
